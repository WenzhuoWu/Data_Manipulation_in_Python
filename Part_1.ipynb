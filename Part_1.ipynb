{
 "cells": [
  {
   "cell_type": "markdown",
   "metadata": {
    "tags": [
     "exercise"
    ]
   },
   "source": [
    "## Warm Ups\n",
    "\n",
    "__Exercise 1.1 (10 points).__ In lecture, we saw that Python's lists have reference semantics. Give a similar example that shows Python's dictionaries have reference semantics. Make sure to explain your example."
   ]
  },
  {
   "cell_type": "code",
   "execution_count": 1,
   "metadata": {},
   "outputs": [
    {
     "data": {
      "text/plain": [
       "{'name': 'John', 'Age': 21}"
      ]
     },
     "execution_count": 1,
     "metadata": {},
     "output_type": "execute_result"
    }
   ],
   "source": [
    "#changing the list with one variable changes the list for the other variable.\n",
    "# Here we generate a dictionary with name and age elements\n",
    "x = {\"name\": \"John\", \"Age\": 21}\n",
    "x"
   ]
  },
  {
   "cell_type": "code",
   "execution_count": 2,
   "metadata": {},
   "outputs": [
    {
     "data": {
      "text/plain": [
       "{'name': 'John', 'Age': 19}"
      ]
     },
     "execution_count": 2,
     "metadata": {},
     "output_type": "execute_result"
    }
   ],
   "source": [
    "y = x\n",
    "# Change the value for Age element in y\n",
    "y[\"Age\"]= 19\n",
    "y"
   ]
  },
  {
   "cell_type": "code",
   "execution_count": 3,
   "metadata": {},
   "outputs": [
    {
     "data": {
      "text/plain": [
       "{'name': 'John', 'Age': 19}"
      ]
     },
     "execution_count": 3,
     "metadata": {},
     "output_type": "execute_result"
    }
   ],
   "source": [
    "x"
   ]
  },
  {
   "cell_type": "markdown",
   "metadata": {},
   "source": [
    "**We can see x also has the corresponding change.**\n",
    "**It proves Python's dictionaries have reference semantics.**"
   ]
  },
  {
   "cell_type": "markdown",
   "metadata": {
    "tags": [
     "exercise"
    ]
   },
   "source": [
    "__Exercise 1.2 (10 points).__ Are strings mutable? Give an example and explain your reasoning. _Hint: It's a good idea to confirm your answer by checking the Python 3 documentation._\n",
    "\n",
    "Next, read [the documentation](https://docs.python.org/3/library/stdtypes.html#str.replace) for the string `.replace()` method. Give an example of using the method and explain how it fits in with your understanding of whether or not strings are mutable."
   ]
  },
  {
   "cell_type": "code",
   "execution_count": 4,
   "metadata": {},
   "outputs": [],
   "source": [
    "# Create a string x\n",
    "x = \"Hello\""
   ]
  },
  {
   "cell_type": "code",
   "execution_count": 5,
   "metadata": {},
   "outputs": [
    {
     "data": {
      "text/plain": [
       "str"
      ]
     },
     "execution_count": 5,
     "metadata": {},
     "output_type": "execute_result"
    }
   ],
   "source": [
    "# check the type of \"Hello\"\n",
    "type(x)"
   ]
  },
  {
   "cell_type": "code",
   "execution_count": 6,
   "metadata": {},
   "outputs": [],
   "source": [
    "# change the string\n",
    "# x[1] = \"A\""
   ]
  },
  {
   "cell_type": "markdown",
   "metadata": {},
   "source": [
    "**String is not mutable.**"
   ]
  },
  {
   "cell_type": "code",
   "execution_count": 7,
   "metadata": {},
   "outputs": [
    {
     "data": {
      "text/plain": [
       "'HAllo'"
      ]
     },
     "execution_count": 7,
     "metadata": {},
     "output_type": "execute_result"
    }
   ],
   "source": [
    "x.replace(\"e\",\"A\")"
   ]
  },
  {
   "cell_type": "code",
   "execution_count": 8,
   "metadata": {},
   "outputs": [],
   "source": [
    "x = \"Hello, world; Hello, world.\""
   ]
  },
  {
   "cell_type": "code",
   "execution_count": 9,
   "metadata": {},
   "outputs": [
    {
     "name": "stdout",
     "output_type": "stream",
     "text": [
      "Bye, world; Hello, world.\n"
     ]
    }
   ],
   "source": [
    "print(x.replace(\"Hello\",\"Bye\",1))"
   ]
  },
  {
   "cell_type": "code",
   "execution_count": 12,
   "metadata": {},
   "outputs": [
    {
     "name": "stdout",
     "output_type": "stream",
     "text": [
      "Bye, world; Bye, world.\n"
     ]
    }
   ],
   "source": [
    "print(x.replace(\"Hello\",\"Bye\",2))"
   ]
  },
  {
   "cell_type": "markdown",
   "metadata": {},
   "source": [
    "**A string is not mutable but it can be replaced. Here \"Hello\" is not changed but replaced by \"Bye\". If we print x again it would still be the same as before.**"
   ]
  },
  {
   "cell_type": "code",
   "execution_count": 226,
   "metadata": {},
   "outputs": [
    {
     "data": {
      "text/plain": [
       "'Hello, world; Hello, world.'"
      ]
     },
     "execution_count": 226,
     "metadata": {},
     "output_type": "execute_result"
    }
   ],
   "source": [
    "x"
   ]
  },
  {
   "cell_type": "markdown",
   "metadata": {
    "tags": [
     "exercise"
    ]
   },
   "source": [
    "## Writing Functions\n",
    "\n",
    "__Exercise 1.3 (10 points).__ Write a function `mean` that takes a list of numbers as input and returns their mean as output. Test your function on at least two examples."
   ]
  },
  {
   "cell_type": "code",
   "execution_count": 27,
   "metadata": {},
   "outputs": [],
   "source": [
    "# write a function\n",
    "def mean(x):\n",
    "    a = len(x)  # calculate the number of the values in a list\n",
    "    b = sum(x)  # calculate the sum of the values in a list\n",
    "    return b/a  # mean= sum /number of values"
   ]
  },
  {
   "cell_type": "code",
   "execution_count": 28,
   "metadata": {},
   "outputs": [
    {
     "data": {
      "text/plain": [
       "3.0"
      ]
     },
     "execution_count": 28,
     "metadata": {},
     "output_type": "execute_result"
    }
   ],
   "source": [
    "x = [1, 3, 5]\n",
    "mean(x)"
   ]
  },
  {
   "cell_type": "code",
   "execution_count": 29,
   "metadata": {},
   "outputs": [
    {
     "data": {
      "text/plain": [
       "3.5"
      ]
     },
     "execution_count": 29,
     "metadata": {},
     "output_type": "execute_result"
    }
   ],
   "source": [
    "y = [1, 2, 3, 4, 5, 6]\n",
    "mean(y)"
   ]
  },
  {
   "cell_type": "markdown",
   "metadata": {
    "tags": [
     "exercise"
    ]
   },
   "source": [
    "__Exercise 1.4 (10 points).__ For the function you wrote in Exercise 1.3, what happens if the input list is empty or contains non-numeric elements? Create a new version of your function called `better_mean` that returns `None` when either of these unusual cases occur.\n",
    "\n",
    "_Hint: A similar problem is discussed in [Section 6.8](http://greenteapress.com/thinkpython2/html/thinkpython2007.html#sec77) of Think Python._"
   ]
  },
  {
   "cell_type": "code",
   "execution_count": 120,
   "metadata": {},
   "outputs": [],
   "source": [
    "def better_mean(n):\n",
    "    if not all(isinstance(i, (int, float)) for i in n): \n",
    "        #input list contains non-numeric elements')\n",
    "        return None \n",
    "    elif len(n) == 0:\n",
    "        # input list is empty\n",
    "        return None \n",
    "    else:\n",
    "        a = len(n)\n",
    "        b = sum(n)\n",
    "        return b/a"
   ]
  },
  {
   "cell_type": "code",
   "execution_count": 121,
   "metadata": {},
   "outputs": [
    {
     "data": {
      "text/plain": [
       "3.533333333333333"
      ]
     },
     "execution_count": 121,
     "metadata": {},
     "output_type": "execute_result"
    }
   ],
   "source": [
    "z = [1, 2.2, 3, 4, 5, 6]\n",
    "better_mean(z)"
   ]
  },
  {
   "cell_type": "code",
   "execution_count": 89,
   "metadata": {},
   "outputs": [],
   "source": [
    "z = []\n",
    "better_mean(z)"
   ]
  },
  {
   "cell_type": "code",
   "execution_count": 33,
   "metadata": {},
   "outputs": [],
   "source": [
    "z = \"Hello\"\n",
    "better_mean(z)"
   ]
  },
  {
   "cell_type": "markdown",
   "metadata": {
    "tags": [
     "exercise"
    ]
   },
   "source": [
    "__Exercise 1.5 (10 points).__ Read [Section 4.9](http://greenteapress.com/thinkpython2/html/thinkpython2005.html#sec50) of Think Python. Create a new version of your function from Exercise 1.4 called `best_mean` that includes a docstring explaining how to use the function. Give an example to show that your docstring works with Python's built-in help system."
   ]
  },
  {
   "cell_type": "code",
   "execution_count": 74,
   "metadata": {},
   "outputs": [],
   "source": [
    "def best_mean(n):\n",
    "    \"\"\"Calculate mean for a list of numbers, if the list is not empty and has no non-numeric values.\"\"\"\n",
    "    if not all(isinstance(i, (int, float)) for i in n):\n",
    "        return None       \n",
    "    elif len(n) == 0:\n",
    "        return None \n",
    "    else:\n",
    "        a = len(n)\n",
    "        b = sum(n)\n",
    "        return b/a"
   ]
  },
  {
   "cell_type": "code",
   "execution_count": 75,
   "metadata": {},
   "outputs": [
    {
     "name": "stdout",
     "output_type": "stream",
     "text": [
      "Help on function best_mean in module __main__:\n",
      "\n",
      "best_mean(n)\n",
      "    Calculate mean for a list of numbers, if the list is not empty and has no non-numeric values.\n",
      "\n"
     ]
    }
   ],
   "source": [
    "help(best_mean)"
   ]
  },
  {
   "cell_type": "code",
   "execution_count": 231,
   "metadata": {},
   "outputs": [
    {
     "data": {
      "text/plain": [
       "3.5"
      ]
     },
     "execution_count": 231,
     "metadata": {},
     "output_type": "execute_result"
    }
   ],
   "source": [
    "x = [1, 2, 3, 4, 5, 6]\n",
    "best_mean(x)"
   ]
  },
  {
   "cell_type": "markdown",
   "metadata": {
    "tags": [
     "exercise"
    ]
   },
   "source": [
    "__Exercise 1.6 (10 points).__ Write a function `median` that takes a list of numbers as input and returns their median as output. Document your function with a docstring. Test your function on at least two examples."
   ]
  },
  {
   "cell_type": "code",
   "execution_count": 76,
   "metadata": {},
   "outputs": [],
   "source": [
    "def median(x):\n",
    "    \"\"\"calculate median for a list of numbers\"\"\"\n",
    "    n = len(x) #calculate length of a list\n",
    "    s = sorted(x) #sort the list from samllest to biggest\"\"\"\n",
    "    if n % 2 == 0:\n",
    "        return s[n//2-1]/2 +s[n//2]/2\n",
    "        #If the number of values in a list is even, the median is the average of the two middle numbers\"\"\"\n",
    "    else:\n",
    "        return s[n//2]\n",
    "        #If the number of values in a list is odd, the median is the middle number\"\"\""
   ]
  },
  {
   "cell_type": "code",
   "execution_count": 77,
   "metadata": {},
   "outputs": [
    {
     "data": {
      "text/plain": [
       "2.5"
      ]
     },
     "execution_count": 77,
     "metadata": {},
     "output_type": "execute_result"
    }
   ],
   "source": [
    "x = [1, 2, 3, 4]\n",
    "median(x)"
   ]
  },
  {
   "cell_type": "code",
   "execution_count": 78,
   "metadata": {},
   "outputs": [
    {
     "data": {
      "text/plain": [
       "3"
      ]
     },
     "execution_count": 78,
     "metadata": {},
     "output_type": "execute_result"
    }
   ],
   "source": [
    "y = [1, 2, 3, 4, 5]\n",
    "median(y)"
   ]
  },
  {
   "cell_type": "markdown",
   "metadata": {
    "tags": [
     "exercise"
    ]
   },
   "source": [
    "## Finding Exponential Roots\n",
    "\n",
    "The Newton-Raphson algorithm is an algorithm for finding the zeroes of a mathematical function. We can use the Newton-Raphson algorithm to find zeroes of the function\n",
    "\n",
    "$$\n",
    "f(x) = x^p - c\n",
    "$$\n",
    "\n",
    "where $p$ and $c$ are constants. For example, if we choose $p = 2$ and $c = 5$, the Newton-Raphson algorithm finds solutions to\n",
    "\n",
    "$$\n",
    "0 = x^2 - 5\n",
    "$$\n",
    "\n",
    "In other words, we can use the algorithm to find square roots. By changing $p$, we can also find other kinds of exponential roots.\n",
    "\n",
    "\n",
    "The algorithm works by starting from an initial guess $x_0$ and then iteratively evaluating\n",
    "\n",
    "$$\n",
    "x_{n+1} = x_n - \\frac{f(x_n)}{f'(x_n)}\n",
    "$$\n",
    "\n",
    "for $n = 0, 1, 2, \\dots, N$ until reaching a result $X_{N+1}$ with acceptable accuracy. The initial guess does not need to be an excellent guess, but can affect which zero is found.\n",
    "\n",
    "For our specific function $f$, note that $f'(x) = px^{p-1}$.\n",
    "\n",
    "__Exercise 1.7 (20 points).__ Write a function `root` that uses the Newton-Raphson algorithm to compute one of the $p$-th roots for a constant $c$. Your function does not need to find complex roots, only real roots. Your function should have arguments\n",
    "\n",
    "* `c`, the constant\n",
    "* `p`, the power\n",
    "* `x0`, the initial guess\n",
    "* `N`, the maximum number of iterations\n",
    "\n",
    "Test your function for $c = 2$, $p = 2$, $N = 200$. Try different values of $x_0$. Can you find initial guesses to get both roots? Explain what happens when the initial guess is $x_0 = 0$."
   ]
  },
  {
   "cell_type": "code",
   "execution_count": 10,
   "metadata": {},
   "outputs": [],
   "source": [
    "def root(c, p, x0, N):\n",
    "    for i in range (1, N+1):\n",
    "        f_x = x0 ** p - c       #calculate f(x)\n",
    "        d_f_x = p * (x0 **(p-1)) #calculate 𝑓′(x)\n",
    "        a = f_x/ d_f_x \n",
    "        x1 = x0 - a #use the formula to calculate next x\n",
    "        x0 = x1 #replace the 𝑥𝑛 and 𝑥𝑛+1\n",
    "    print (x0)\n",
    "    "
   ]
  },
  {
   "cell_type": "code",
   "execution_count": 11,
   "metadata": {},
   "outputs": [
    {
     "name": "stdout",
     "output_type": "stream",
     "text": [
      "1.414213562373095\n"
     ]
    }
   ],
   "source": [
    "root(2,2,2,200)"
   ]
  },
  {
   "cell_type": "code",
   "execution_count": 12,
   "metadata": {},
   "outputs": [
    {
     "name": "stdout",
     "output_type": "stream",
     "text": [
      "-1.414213562373095\n"
     ]
    }
   ],
   "source": [
    "root(2,2,-2,200)"
   ]
  },
  {
   "cell_type": "markdown",
   "metadata": {},
   "source": [
    "**When the initial guess is 2, the root is 1.414213562373095; when the initial guess is -2, the root is -1.414213562373095.**"
   ]
  },
  {
   "cell_type": "code",
   "execution_count": 13,
   "metadata": {
    "scrolled": true
   },
   "outputs": [],
   "source": [
    "# root(2,2,0,200)"
   ]
  },
  {
   "cell_type": "markdown",
   "metadata": {},
   "source": [
    "**If the initial guess x0 is 0, 𝑓′(𝑥)= p * x0^(p-1) will be 0 in the denominater to calculate x1. The denominator of any fraction cannot have the value zero.**"
   ]
  },
  {
   "cell_type": "markdown",
   "metadata": {
    "tags": [
     "exercise"
    ]
   },
   "source": [
    "__Exercise 1.8 (20 points).__ Read the Python documentation for the string `.format()` method (see [here](https://docs.python.org/3/library/stdtypes.html#str.format)). Create a new version of your function from Exercise 1.7 called `root_print` that neatly prints the iteration number and estimate for each iteration up to $N$.\n",
    "\n",
    "Test your function for $c = 7$, $p = 3$, $x_0 = 2$, $N = 50$. About how many iterations does it take for the first 3 digits to stabilize at the correct values?"
   ]
  },
  {
   "cell_type": "code",
   "execution_count": 1,
   "metadata": {},
   "outputs": [],
   "source": [
    "def root_print(c, p, x0, N):\n",
    "    for i in range (1, N+1):\n",
    "        f_x = x0 ** p - c       #calculate f(x)\n",
    "        d_f_x = p * (x0 **(p-1)) #calculate 𝑓′(x)\n",
    "        a = f_x/ d_f_x \n",
    "        x1 = x0 - a #use the formula to calculate next x\n",
    "        x0 = x1 #replace the 𝑥𝑛 and 𝑥𝑛+1\n",
    "        w0 = \"The iteration is {}, and the root is {}.\".format(i, x0)\n",
    "        print (w0)"
   ]
  },
  {
   "cell_type": "code",
   "execution_count": 2,
   "metadata": {},
   "outputs": [
    {
     "name": "stdout",
     "output_type": "stream",
     "text": [
      "The iteration is 1, and the root is 1.9166666666666667.\n",
      "The iteration is 2, and the root is 1.9129384583070783.\n",
      "The iteration is 3, and the root is 1.9129311828000604.\n",
      "The iteration is 4, and the root is 1.9129311827723892.\n",
      "The iteration is 5, and the root is 1.9129311827723892.\n",
      "The iteration is 6, and the root is 1.9129311827723892.\n",
      "The iteration is 7, and the root is 1.9129311827723892.\n",
      "The iteration is 8, and the root is 1.9129311827723892.\n",
      "The iteration is 9, and the root is 1.9129311827723892.\n",
      "The iteration is 10, and the root is 1.9129311827723892.\n",
      "The iteration is 11, and the root is 1.9129311827723892.\n",
      "The iteration is 12, and the root is 1.9129311827723892.\n",
      "The iteration is 13, and the root is 1.9129311827723892.\n",
      "The iteration is 14, and the root is 1.9129311827723892.\n",
      "The iteration is 15, and the root is 1.9129311827723892.\n",
      "The iteration is 16, and the root is 1.9129311827723892.\n",
      "The iteration is 17, and the root is 1.9129311827723892.\n",
      "The iteration is 18, and the root is 1.9129311827723892.\n",
      "The iteration is 19, and the root is 1.9129311827723892.\n",
      "The iteration is 20, and the root is 1.9129311827723892.\n",
      "The iteration is 21, and the root is 1.9129311827723892.\n",
      "The iteration is 22, and the root is 1.9129311827723892.\n",
      "The iteration is 23, and the root is 1.9129311827723892.\n",
      "The iteration is 24, and the root is 1.9129311827723892.\n",
      "The iteration is 25, and the root is 1.9129311827723892.\n",
      "The iteration is 26, and the root is 1.9129311827723892.\n",
      "The iteration is 27, and the root is 1.9129311827723892.\n",
      "The iteration is 28, and the root is 1.9129311827723892.\n",
      "The iteration is 29, and the root is 1.9129311827723892.\n",
      "The iteration is 30, and the root is 1.9129311827723892.\n",
      "The iteration is 31, and the root is 1.9129311827723892.\n",
      "The iteration is 32, and the root is 1.9129311827723892.\n",
      "The iteration is 33, and the root is 1.9129311827723892.\n",
      "The iteration is 34, and the root is 1.9129311827723892.\n",
      "The iteration is 35, and the root is 1.9129311827723892.\n",
      "The iteration is 36, and the root is 1.9129311827723892.\n",
      "The iteration is 37, and the root is 1.9129311827723892.\n",
      "The iteration is 38, and the root is 1.9129311827723892.\n",
      "The iteration is 39, and the root is 1.9129311827723892.\n",
      "The iteration is 40, and the root is 1.9129311827723892.\n",
      "The iteration is 41, and the root is 1.9129311827723892.\n",
      "The iteration is 42, and the root is 1.9129311827723892.\n",
      "The iteration is 43, and the root is 1.9129311827723892.\n",
      "The iteration is 44, and the root is 1.9129311827723892.\n",
      "The iteration is 45, and the root is 1.9129311827723892.\n",
      "The iteration is 46, and the root is 1.9129311827723892.\n",
      "The iteration is 47, and the root is 1.9129311827723892.\n",
      "The iteration is 48, and the root is 1.9129311827723892.\n",
      "The iteration is 49, and the root is 1.9129311827723892.\n",
      "The iteration is 50, and the root is 1.9129311827723892.\n"
     ]
    }
   ],
   "source": [
    "root_print(7,3,2,50)"
   ]
  },
  {
   "cell_type": "markdown",
   "metadata": {},
   "source": [
    " **It took three iteration for the first 3 digits after decimal (.912) to stabilize at the correct values.**"
   ]
  },
  {
   "cell_type": "markdown",
   "metadata": {
    "tags": [
     "exercise"
    ]
   },
   "source": [
    "## Fibonacci Words\n",
    "\n",
    "A [Fibonacci word](https://en.wikipedia.org/wiki/Fibonacci_word) is a string of 0s and 1s constructed by repeatedly concatenating strings. The first two words are\n",
    "\n",
    "```\n",
    "S0 = \"0\"\n",
    "S1 = \"01\"\n",
    "```\n",
    "\n",
    "Then each word is formed by concatenating the previous two words in the sequence. For instance, `S2`, is formed by concatenating `S1` and `S0`. So\n",
    "\n",
    "```\n",
    "S2 = \"010\"\n",
    "S3 = \"01001\"\n",
    "```\n",
    "\n",
    "__Exercise 1.9 (20 points).__ Write a function `fib` that computes Fibonacci words. Your function should take an argument `n` that specifies which word to compute.\n",
    "\n",
    "Use your function to print the first 10 Fibonacci words."
   ]
  },
  {
   "cell_type": "code",
   "execution_count": 8,
   "metadata": {},
   "outputs": [],
   "source": [
    "def fib(n):\n",
    "    S_0 = \"0\"\n",
    "    S_1 = \"01\"\n",
    "    a = \"\"\n",
    "    for i in range(0, n):\n",
    "        if i == 0:\n",
    "            print (\"S0 = 0.\")\n",
    "        elif i == 1:\n",
    "            print (\"S1 = 01.\")\n",
    "        else:\n",
    "            a = S_1\n",
    "            S_1 += S_0 \n",
    "        #+= operator lets you add two values together and assign the resultant \n",
    "        #value to a variable. combine s0 and s1 and assign the value to s1.\n",
    "            S_0 = a\n",
    "            w0 = \"S{} = {}.\".format(i, S_1)\n",
    "            print(w0) \n",
    "        "
   ]
  },
  {
   "cell_type": "code",
   "execution_count": 9,
   "metadata": {},
   "outputs": [
    {
     "name": "stdout",
     "output_type": "stream",
     "text": [
      "S0 = 0.\n",
      "S1 = 01.\n",
      "S2 = 010.\n",
      "S3 = 01001.\n",
      "S4 = 01001010.\n",
      "S5 = 0100101001001.\n",
      "S6 = 010010100100101001010.\n",
      "S7 = 0100101001001010010100100101001001.\n",
      "S8 = 0100101001001010010100100101001001010010100100101001010.\n",
      "S9 = 01001010010010100101001001010010010100101001001010010100100101001001010010100100101001001.\n"
     ]
    }
   ],
   "source": [
    "fib(10)"
   ]
  },
  {
   "cell_type": "code",
   "execution_count": null,
   "metadata": {},
   "outputs": [],
   "source": []
  }
 ],
 "metadata": {
  "celltoolbar": "Tags",
  "kernelspec": {
   "display_name": "Python 3",
   "language": "python",
   "name": "python3"
  },
  "language_info": {
   "codemirror_mode": {
    "name": "ipython",
    "version": 3
   },
   "file_extension": ".py",
   "mimetype": "text/x-python",
   "name": "python",
   "nbconvert_exporter": "python",
   "pygments_lexer": "ipython3",
   "version": "3.7.4"
  }
 },
 "nbformat": 4,
 "nbformat_minor": 2
}
